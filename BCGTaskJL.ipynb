{
 "cells": [
  {
   "cell_type": "markdown",
   "id": "f68c85bb",
   "metadata": {},
   "source": [
    "#### Loading the library"
   ]
  },
  {
   "cell_type": "code",
   "execution_count": 33,
   "id": "8c0c58b7",
   "metadata": {
    "scrolled": false
   },
   "outputs": [
    {
     "name": "stderr",
     "output_type": "stream",
     "text": [
      "\u001b[32m\u001b[1m   Resolving\u001b[22m\u001b[39m package versions...\n",
      "\u001b[32m\u001b[1m  No Changes\u001b[22m\u001b[39m to `~/.julia/environments/v1.7/Project.toml`\n",
      "\u001b[32m\u001b[1m  No Changes\u001b[22m\u001b[39m to `~/.julia/environments/v1.7/Manifest.toml`\n"
     ]
    }
   ],
   "source": [
    "import Pkg; Pkg.add(\"StatsPlots\")"
   ]
  },
  {
   "cell_type": "code",
   "execution_count": 31,
   "id": "8a9f7dd0",
   "metadata": {},
   "outputs": [
    {
     "name": "stderr",
     "output_type": "stream",
     "text": [
      "\u001b[32m\u001b[1mPrecompiling\u001b[22m\u001b[39m project...\n",
      "\u001b[91m  ✗ \u001b[39m\u001b[90mArpack\u001b[39m\n",
      "\u001b[91m  ✗ \u001b[39m\u001b[90mMultivariateStats\u001b[39m\n",
      "\u001b[91m  ✗ \u001b[39mStatsPlots\n",
      "  0 dependencies successfully precompiled in 23 seconds (224 already precompiled)\n",
      "\n"
     ]
    },
    {
     "ename": "LoadError",
     "evalue": "The following 1 direct dependency failed to precompile:\n\nStatsPlots [f3b207a7-027a-5e70-b257-86293d7955fd]\n\nFailed to precompile StatsPlots [f3b207a7-027a-5e70-b257-86293d7955fd] to /home/sanjayashetty/.julia/compiled/v1.7/StatsPlots/jl_jxXbeC.\n\u001b[91m\u001b[1mERROR: \u001b[22m\u001b[39mLoadError: InitError: could not load library \"/home/sanjayashetty/.julia/artifacts/cdf6dc8aa6771a61c6c65a5a5c1a8d1b75f50a2f/lib/libarpack.so\"\nlibopenblas64_.so: cannot open shared object file: No such file or directory\nStacktrace:\n [1] \u001b[0m\u001b[1mmacro expansion\u001b[22m\n\u001b[90m   @ \u001b[39m\u001b[90m~/.julia/packages/JLLWrappers/QpMQW/src/products/\u001b[39m\u001b[90m\u001b[4mlibrary_generators.jl:54\u001b[24m\u001b[39m\u001b[90m [inlined]\u001b[39m\n [2] \u001b[0m\u001b[1m__init__\u001b[22m\u001b[0m\u001b[1m(\u001b[22m\u001b[0m\u001b[1m)\u001b[22m\n\u001b[90m   @ \u001b[39m\u001b[35mArpack_jll\u001b[39m \u001b[90m~/.julia/packages/Arpack_jll/zfgpQ/src/wrappers/\u001b[39m\u001b[90m\u001b[4mx86_64-linux-gnu-libgfortran5.jl:10\u001b[24m\u001b[39m\n [3] top-level scope\u001b[90m (repeats 2 times)\u001b[39m\n\u001b[90m   @ \u001b[39m\u001b[90m\u001b[4mnone:1\u001b[24m\u001b[39m\nduring initialization of module Arpack_jll\nin expression starting at /home/sanjayashetty/.julia/packages/Arpack/pLziT/src/Arpack.jl:2\n\u001b[91m\u001b[1mERROR: \u001b[22m\u001b[39mLoadError: Failed to precompile Arpack [7d9fca2a-8960-54d3-9f78-7d1dccf2cb97] to /home/sanjayashetty/.julia/compiled/v1.7/Arpack/jl_IjwwqO.\nStacktrace:\n [1] \u001b[0m\u001b[1minclude\u001b[22m\u001b[0m\u001b[1m(\u001b[22m\u001b[90mx\u001b[39m::\u001b[0mString\u001b[0m\u001b[1m)\u001b[22m\n\u001b[90m   @ \u001b[39m\u001b[35mMultivariateStats\u001b[39m \u001b[90m~/.julia/packages/MultivariateStats/zLpz8/src/\u001b[39m\u001b[90m\u001b[4mMultivariateStats.jl:1\u001b[24m\u001b[39m\n [2] top-level scope\n\u001b[90m   @ \u001b[39m\u001b[90m~/.julia/packages/MultivariateStats/zLpz8/src/\u001b[39m\u001b[90m\u001b[4mMultivariateStats.jl:113\u001b[24m\u001b[39m\n [3] top-level scope\u001b[90m (repeats 2 times)\u001b[39m\n\u001b[90m   @ \u001b[39m\u001b[90m\u001b[4mnone:1\u001b[24m\u001b[39m\nin expression starting at /home/sanjayashetty/.julia/packages/MultivariateStats/zLpz8/src/kpca.jl:3\nin expression starting at /home/sanjayashetty/.julia/packages/MultivariateStats/zLpz8/src/MultivariateStats.jl:1\n\u001b[91m\u001b[1mERROR: \u001b[22m\u001b[39mLoadError: Failed to precompile MultivariateStats [6f286f6a-111f-5878-ab1e-185364afe411] to /home/sanjayashetty/.julia/compiled/v1.7/MultivariateStats/jl_rgjA6O.\nStacktrace:\n [1] top-level scope\u001b[90m (repeats 2 times)\u001b[39m\n\u001b[90m   @ \u001b[39m\u001b[90m\u001b[4mnone:1\u001b[24m\u001b[39m\nin expression starting at /home/sanjayashetty/.julia/packages/StatsPlots/8DjQs/src/StatsPlots.jl:1",
     "output_type": "error",
     "traceback": [
      "The following 1 direct dependency failed to precompile:\n\nStatsPlots [f3b207a7-027a-5e70-b257-86293d7955fd]\n\nFailed to precompile StatsPlots [f3b207a7-027a-5e70-b257-86293d7955fd] to /home/sanjayashetty/.julia/compiled/v1.7/StatsPlots/jl_jxXbeC.\n\u001b[91m\u001b[1mERROR: \u001b[22m\u001b[39mLoadError: InitError: could not load library \"/home/sanjayashetty/.julia/artifacts/cdf6dc8aa6771a61c6c65a5a5c1a8d1b75f50a2f/lib/libarpack.so\"\nlibopenblas64_.so: cannot open shared object file: No such file or directory\nStacktrace:\n [1] \u001b[0m\u001b[1mmacro expansion\u001b[22m\n\u001b[90m   @ \u001b[39m\u001b[90m~/.julia/packages/JLLWrappers/QpMQW/src/products/\u001b[39m\u001b[90m\u001b[4mlibrary_generators.jl:54\u001b[24m\u001b[39m\u001b[90m [inlined]\u001b[39m\n [2] \u001b[0m\u001b[1m__init__\u001b[22m\u001b[0m\u001b[1m(\u001b[22m\u001b[0m\u001b[1m)\u001b[22m\n\u001b[90m   @ \u001b[39m\u001b[35mArpack_jll\u001b[39m \u001b[90m~/.julia/packages/Arpack_jll/zfgpQ/src/wrappers/\u001b[39m\u001b[90m\u001b[4mx86_64-linux-gnu-libgfortran5.jl:10\u001b[24m\u001b[39m\n [3] top-level scope\u001b[90m (repeats 2 times)\u001b[39m\n\u001b[90m   @ \u001b[39m\u001b[90m\u001b[4mnone:1\u001b[24m\u001b[39m\nduring initialization of module Arpack_jll\nin expression starting at /home/sanjayashetty/.julia/packages/Arpack/pLziT/src/Arpack.jl:2\n\u001b[91m\u001b[1mERROR: \u001b[22m\u001b[39mLoadError: Failed to precompile Arpack [7d9fca2a-8960-54d3-9f78-7d1dccf2cb97] to /home/sanjayashetty/.julia/compiled/v1.7/Arpack/jl_IjwwqO.\nStacktrace:\n [1] \u001b[0m\u001b[1minclude\u001b[22m\u001b[0m\u001b[1m(\u001b[22m\u001b[90mx\u001b[39m::\u001b[0mString\u001b[0m\u001b[1m)\u001b[22m\n\u001b[90m   @ \u001b[39m\u001b[35mMultivariateStats\u001b[39m \u001b[90m~/.julia/packages/MultivariateStats/zLpz8/src/\u001b[39m\u001b[90m\u001b[4mMultivariateStats.jl:1\u001b[24m\u001b[39m\n [2] top-level scope\n\u001b[90m   @ \u001b[39m\u001b[90m~/.julia/packages/MultivariateStats/zLpz8/src/\u001b[39m\u001b[90m\u001b[4mMultivariateStats.jl:113\u001b[24m\u001b[39m\n [3] top-level scope\u001b[90m (repeats 2 times)\u001b[39m\n\u001b[90m   @ \u001b[39m\u001b[90m\u001b[4mnone:1\u001b[24m\u001b[39m\nin expression starting at /home/sanjayashetty/.julia/packages/MultivariateStats/zLpz8/src/kpca.jl:3\nin expression starting at /home/sanjayashetty/.julia/packages/MultivariateStats/zLpz8/src/MultivariateStats.jl:1\n\u001b[91m\u001b[1mERROR: \u001b[22m\u001b[39mLoadError: Failed to precompile MultivariateStats [6f286f6a-111f-5878-ab1e-185364afe411] to /home/sanjayashetty/.julia/compiled/v1.7/MultivariateStats/jl_rgjA6O.\nStacktrace:\n [1] top-level scope\u001b[90m (repeats 2 times)\u001b[39m\n\u001b[90m   @ \u001b[39m\u001b[90m\u001b[4mnone:1\u001b[24m\u001b[39m\nin expression starting at /home/sanjayashetty/.julia/packages/StatsPlots/8DjQs/src/StatsPlots.jl:1",
      "",
      "Stacktrace:",
      " [1] precompile(ctx::Pkg.Types.Context; internal_call::Bool, strict::Bool, warn_loaded::Bool, already_instantiated::Bool, kwargs::Base.Pairs{Symbol, Union{}, Tuple{}, NamedTuple{(), Tuple{}}})",
      "   @ Pkg.API /usr/share/julia/stdlib/v1.7/Pkg/src/API.jl:1362",
      " [2] precompile",
      "   @ /usr/share/julia/stdlib/v1.7/Pkg/src/API.jl:1013 [inlined]",
      " [3] #precompile#220",
      "   @ /usr/share/julia/stdlib/v1.7/Pkg/src/API.jl:1011 [inlined]",
      " [4] precompile()",
      "   @ Pkg.API /usr/share/julia/stdlib/v1.7/Pkg/src/API.jl:1011",
      " [5] top-level scope",
      "   @ In[31]:1",
      " [6] eval",
      "   @ ./boot.jl:373 [inlined]",
      " [7] include_string(mapexpr::typeof(REPL.softscope), mod::Module, code::String, filename::String)",
      "   @ Base ./loading.jl:1196"
     ]
    }
   ],
   "source": [
    "import Pkg; Pkg.precompile()"
   ]
  },
  {
   "cell_type": "code",
   "execution_count": 30,
   "id": "a89c02e4",
   "metadata": {},
   "outputs": [
    {
     "name": "stderr",
     "output_type": "stream",
     "text": [
      "┌ Info: Precompiling StatsPlots [f3b207a7-027a-5e70-b257-86293d7955fd]\n",
      "└ @ Base loading.jl:1423\n",
      "\u001b[91m\u001b[1mERROR: \u001b[22m\u001b[39mLoadError: InitError: could not load library \"/home/sanjayashetty/.julia/artifacts/cdf6dc8aa6771a61c6c65a5a5c1a8d1b75f50a2f/lib/libarpack.so\"\n",
      "libopenblas64_.so: cannot open shared object file: No such file or directory\n",
      "Stacktrace:\n",
      " [1] \u001b[0m\u001b[1mmacro expansion\u001b[22m\n",
      "\u001b[90m   @ \u001b[39m\u001b[90m~/.julia/packages/JLLWrappers/QpMQW/src/products/\u001b[39m\u001b[90m\u001b[4mlibrary_generators.jl:54\u001b[24m\u001b[39m\u001b[90m [inlined]\u001b[39m\n",
      " [2] \u001b[0m\u001b[1m__init__\u001b[22m\u001b[0m\u001b[1m(\u001b[22m\u001b[0m\u001b[1m)\u001b[22m\n",
      "\u001b[90m   @ \u001b[39m\u001b[35mArpack_jll\u001b[39m \u001b[90m~/.julia/packages/Arpack_jll/zfgpQ/src/wrappers/\u001b[39m\u001b[90m\u001b[4mx86_64-linux-gnu-libgfortran5.jl:10\u001b[24m\u001b[39m\n",
      " [3] top-level scope\u001b[90m (repeats 2 times)\u001b[39m\n",
      "\u001b[90m   @ \u001b[39m\u001b[90m\u001b[4mnone:1\u001b[24m\u001b[39m\n",
      "during initialization of module Arpack_jll\n",
      "in expression starting at /home/sanjayashetty/.julia/packages/Arpack/pLziT/src/Arpack.jl:2\n",
      "\u001b[91m\u001b[1mERROR: \u001b[22m\u001b[39mLoadError: Failed to precompile Arpack [7d9fca2a-8960-54d3-9f78-7d1dccf2cb97] to /home/sanjayashetty/.julia/compiled/v1.7/Arpack/jl_faRGjx.\n",
      "Stacktrace:\n",
      " [1] \u001b[0m\u001b[1minclude\u001b[22m\u001b[0m\u001b[1m(\u001b[22m\u001b[90mx\u001b[39m::\u001b[0mString\u001b[0m\u001b[1m)\u001b[22m\n",
      "\u001b[90m   @ \u001b[39m\u001b[35mMultivariateStats\u001b[39m \u001b[90m~/.julia/packages/MultivariateStats/zLpz8/src/\u001b[39m\u001b[90m\u001b[4mMultivariateStats.jl:1\u001b[24m\u001b[39m\n",
      " [2] top-level scope\n",
      "\u001b[90m   @ \u001b[39m\u001b[90m~/.julia/packages/MultivariateStats/zLpz8/src/\u001b[39m\u001b[90m\u001b[4mMultivariateStats.jl:113\u001b[24m\u001b[39m\n",
      " [3] top-level scope\u001b[90m (repeats 2 times)\u001b[39m\n",
      "\u001b[90m   @ \u001b[39m\u001b[90m\u001b[4mnone:1\u001b[24m\u001b[39m\n",
      "in expression starting at /home/sanjayashetty/.julia/packages/MultivariateStats/zLpz8/src/kpca.jl:3\n",
      "in expression starting at /home/sanjayashetty/.julia/packages/MultivariateStats/zLpz8/src/MultivariateStats.jl:1\n",
      "\u001b[91m\u001b[1mERROR: \u001b[22m\u001b[39mLoadError: Failed to precompile MultivariateStats [6f286f6a-111f-5878-ab1e-185364afe411] to /home/sanjayashetty/.julia/compiled/v1.7/MultivariateStats/jl_8y7oMt.\n",
      "Stacktrace:\n",
      " [1] top-level scope\u001b[90m (repeats 2 times)\u001b[39m\n",
      "\u001b[90m   @ \u001b[39m\u001b[90m\u001b[4mnone:1\u001b[24m\u001b[39m\n",
      "in expression starting at /home/sanjayashetty/.julia/packages/StatsPlots/8DjQs/src/StatsPlots.jl:1\n"
     ]
    },
    {
     "ename": "LoadError",
     "evalue": "Failed to precompile StatsPlots [f3b207a7-027a-5e70-b257-86293d7955fd] to /home/sanjayashetty/.julia/compiled/v1.7/StatsPlots/jl_dLMBz0.",
     "output_type": "error",
     "traceback": [
      "Failed to precompile StatsPlots [f3b207a7-027a-5e70-b257-86293d7955fd] to /home/sanjayashetty/.julia/compiled/v1.7/StatsPlots/jl_dLMBz0.",
      "",
      "Stacktrace:",
      " [1] compilecache(pkg::Base.PkgId, path::String, internal_stderr::IO, internal_stdout::IO, ignore_loaded_modules::Bool)",
      "   @ Base ./loading.jl:1466",
      " [2] compilecache(pkg::Base.PkgId, path::String)",
      "   @ Base ./loading.jl:1410",
      " [3] _require(pkg::Base.PkgId)",
      "   @ Base ./loading.jl:1120",
      " [4] require(uuidkey::Base.PkgId)",
      "   @ Base ./loading.jl:1013",
      " [5] require(into::Module, mod::Symbol)",
      "   @ Base ./loading.jl:997",
      " [6] eval",
      "   @ ./boot.jl:373 [inlined]",
      " [7] include_string(mapexpr::typeof(REPL.softscope), mod::Module, code::String, filename::String)",
      "   @ Base ./loading.jl:1196"
     ]
    }
   ],
   "source": [
    "using DataFrames\n",
    "using UrlDownload\n",
    "using DataFramesMeta\n",
    "using Statistics\n",
    "using DataSkimmer\n",
    "using StatsPlots"
   ]
  },
  {
   "cell_type": "code",
   "execution_count": 15,
   "id": "7464953d",
   "metadata": {
    "collapsed": true
   },
   "outputs": [
    {
     "data": {
      "text/html": [
       "<div class=\"data-frame\"><p>193,002 rows × 8 columns (omitted printing of 4 columns)</p><table class=\"data-frame\"><thead><tr><th></th><th>id</th><th>price_date</th><th>price_off_peak_var</th><th>price_peak_var</th></tr><tr><th></th><th title=\"String\">String</th><th title=\"Dates.Date\">Date</th><th title=\"Float64\">Float64</th><th title=\"Float64\">Float64</th></tr></thead><tbody><tr><th>1</th><td>038af19179925da21a25619c5a24b745</td><td>2015-01-01</td><td>0.151367</td><td>0.0</td></tr><tr><th>2</th><td>038af19179925da21a25619c5a24b745</td><td>2015-02-01</td><td>0.151367</td><td>0.0</td></tr><tr><th>3</th><td>038af19179925da21a25619c5a24b745</td><td>2015-03-01</td><td>0.151367</td><td>0.0</td></tr><tr><th>4</th><td>038af19179925da21a25619c5a24b745</td><td>2015-04-01</td><td>0.149626</td><td>0.0</td></tr><tr><th>5</th><td>038af19179925da21a25619c5a24b745</td><td>2015-05-01</td><td>0.149626</td><td>0.0</td></tr><tr><th>6</th><td>038af19179925da21a25619c5a24b745</td><td>2015-06-01</td><td>0.149626</td><td>0.0</td></tr><tr><th>7</th><td>038af19179925da21a25619c5a24b745</td><td>2015-07-01</td><td>0.150321</td><td>0.0</td></tr><tr><th>8</th><td>038af19179925da21a25619c5a24b745</td><td>2015-08-01</td><td>0.145859</td><td>0.0</td></tr><tr><th>9</th><td>038af19179925da21a25619c5a24b745</td><td>2015-09-01</td><td>0.145859</td><td>0.0</td></tr><tr><th>10</th><td>038af19179925da21a25619c5a24b745</td><td>2015-10-01</td><td>0.145859</td><td>0.0</td></tr><tr><th>11</th><td>038af19179925da21a25619c5a24b745</td><td>2015-11-01</td><td>0.145859</td><td>0.0</td></tr><tr><th>12</th><td>038af19179925da21a25619c5a24b745</td><td>2015-12-01</td><td>0.145859</td><td>0.0</td></tr><tr><th>13</th><td>31f2ce549924679a3cbb2d128ae9ea43</td><td>2015-01-01</td><td>0.125976</td><td>0.103395</td></tr><tr><th>14</th><td>31f2ce549924679a3cbb2d128ae9ea43</td><td>2015-02-01</td><td>0.125976</td><td>0.103395</td></tr><tr><th>15</th><td>31f2ce549924679a3cbb2d128ae9ea43</td><td>2015-03-01</td><td>0.125976</td><td>0.103395</td></tr><tr><th>16</th><td>31f2ce549924679a3cbb2d128ae9ea43</td><td>2015-04-01</td><td>0.125976</td><td>0.103395</td></tr><tr><th>17</th><td>31f2ce549924679a3cbb2d128ae9ea43</td><td>2015-05-01</td><td>0.124815</td><td>0.102234</td></tr><tr><th>18</th><td>31f2ce549924679a3cbb2d128ae9ea43</td><td>2015-06-01</td><td>0.126916</td><td>0.10524</td></tr><tr><th>19</th><td>31f2ce549924679a3cbb2d128ae9ea43</td><td>2015-07-01</td><td>0.126916</td><td>0.10524</td></tr><tr><th>20</th><td>31f2ce549924679a3cbb2d128ae9ea43</td><td>2015-08-01</td><td>0.118755</td><td>0.101071</td></tr><tr><th>21</th><td>31f2ce549924679a3cbb2d128ae9ea43</td><td>2015-09-01</td><td>0.118755</td><td>0.101071</td></tr><tr><th>22</th><td>31f2ce549924679a3cbb2d128ae9ea43</td><td>2015-10-01</td><td>0.118755</td><td>0.101071</td></tr><tr><th>23</th><td>31f2ce549924679a3cbb2d128ae9ea43</td><td>2015-11-01</td><td>0.118755</td><td>0.101071</td></tr><tr><th>24</th><td>31f2ce549924679a3cbb2d128ae9ea43</td><td>2015-12-01</td><td>0.118755</td><td>0.101071</td></tr><tr><th>25</th><td>36b6352b4656216bfdb96f01e9a94b4e</td><td>2015-01-01</td><td>0.123086</td><td>0.100505</td></tr><tr><th>26</th><td>36b6352b4656216bfdb96f01e9a94b4e</td><td>2015-02-01</td><td>0.123086</td><td>0.100505</td></tr><tr><th>27</th><td>36b6352b4656216bfdb96f01e9a94b4e</td><td>2015-03-01</td><td>0.123086</td><td>0.100505</td></tr><tr><th>28</th><td>36b6352b4656216bfdb96f01e9a94b4e</td><td>2015-04-01</td><td>0.123086</td><td>0.100505</td></tr><tr><th>29</th><td>36b6352b4656216bfdb96f01e9a94b4e</td><td>2015-05-01</td><td>0.123086</td><td>0.100505</td></tr><tr><th>30</th><td>36b6352b4656216bfdb96f01e9a94b4e</td><td>2015-06-01</td><td>0.123086</td><td>0.100505</td></tr><tr><th>&vellip;</th><td>&vellip;</td><td>&vellip;</td><td>&vellip;</td><td>&vellip;</td></tr></tbody></table></div>"
      ],
      "text/latex": [
       "\\begin{tabular}{r|ccccc}\n",
       "\t& id & price\\_date & price\\_off\\_peak\\_var & price\\_peak\\_var & \\\\\n",
       "\t\\hline\n",
       "\t& String & Date & Float64 & Float64 & \\\\\n",
       "\t\\hline\n",
       "\t1 & 038af19179925da21a25619c5a24b745 & 2015-01-01 & 0.151367 & 0.0 & $\\dots$ \\\\\n",
       "\t2 & 038af19179925da21a25619c5a24b745 & 2015-02-01 & 0.151367 & 0.0 & $\\dots$ \\\\\n",
       "\t3 & 038af19179925da21a25619c5a24b745 & 2015-03-01 & 0.151367 & 0.0 & $\\dots$ \\\\\n",
       "\t4 & 038af19179925da21a25619c5a24b745 & 2015-04-01 & 0.149626 & 0.0 & $\\dots$ \\\\\n",
       "\t5 & 038af19179925da21a25619c5a24b745 & 2015-05-01 & 0.149626 & 0.0 & $\\dots$ \\\\\n",
       "\t6 & 038af19179925da21a25619c5a24b745 & 2015-06-01 & 0.149626 & 0.0 & $\\dots$ \\\\\n",
       "\t7 & 038af19179925da21a25619c5a24b745 & 2015-07-01 & 0.150321 & 0.0 & $\\dots$ \\\\\n",
       "\t8 & 038af19179925da21a25619c5a24b745 & 2015-08-01 & 0.145859 & 0.0 & $\\dots$ \\\\\n",
       "\t9 & 038af19179925da21a25619c5a24b745 & 2015-09-01 & 0.145859 & 0.0 & $\\dots$ \\\\\n",
       "\t10 & 038af19179925da21a25619c5a24b745 & 2015-10-01 & 0.145859 & 0.0 & $\\dots$ \\\\\n",
       "\t11 & 038af19179925da21a25619c5a24b745 & 2015-11-01 & 0.145859 & 0.0 & $\\dots$ \\\\\n",
       "\t12 & 038af19179925da21a25619c5a24b745 & 2015-12-01 & 0.145859 & 0.0 & $\\dots$ \\\\\n",
       "\t13 & 31f2ce549924679a3cbb2d128ae9ea43 & 2015-01-01 & 0.125976 & 0.103395 & $\\dots$ \\\\\n",
       "\t14 & 31f2ce549924679a3cbb2d128ae9ea43 & 2015-02-01 & 0.125976 & 0.103395 & $\\dots$ \\\\\n",
       "\t15 & 31f2ce549924679a3cbb2d128ae9ea43 & 2015-03-01 & 0.125976 & 0.103395 & $\\dots$ \\\\\n",
       "\t16 & 31f2ce549924679a3cbb2d128ae9ea43 & 2015-04-01 & 0.125976 & 0.103395 & $\\dots$ \\\\\n",
       "\t17 & 31f2ce549924679a3cbb2d128ae9ea43 & 2015-05-01 & 0.124815 & 0.102234 & $\\dots$ \\\\\n",
       "\t18 & 31f2ce549924679a3cbb2d128ae9ea43 & 2015-06-01 & 0.126916 & 0.10524 & $\\dots$ \\\\\n",
       "\t19 & 31f2ce549924679a3cbb2d128ae9ea43 & 2015-07-01 & 0.126916 & 0.10524 & $\\dots$ \\\\\n",
       "\t20 & 31f2ce549924679a3cbb2d128ae9ea43 & 2015-08-01 & 0.118755 & 0.101071 & $\\dots$ \\\\\n",
       "\t21 & 31f2ce549924679a3cbb2d128ae9ea43 & 2015-09-01 & 0.118755 & 0.101071 & $\\dots$ \\\\\n",
       "\t22 & 31f2ce549924679a3cbb2d128ae9ea43 & 2015-10-01 & 0.118755 & 0.101071 & $\\dots$ \\\\\n",
       "\t23 & 31f2ce549924679a3cbb2d128ae9ea43 & 2015-11-01 & 0.118755 & 0.101071 & $\\dots$ \\\\\n",
       "\t24 & 31f2ce549924679a3cbb2d128ae9ea43 & 2015-12-01 & 0.118755 & 0.101071 & $\\dots$ \\\\\n",
       "\t25 & 36b6352b4656216bfdb96f01e9a94b4e & 2015-01-01 & 0.123086 & 0.100505 & $\\dots$ \\\\\n",
       "\t26 & 36b6352b4656216bfdb96f01e9a94b4e & 2015-02-01 & 0.123086 & 0.100505 & $\\dots$ \\\\\n",
       "\t27 & 36b6352b4656216bfdb96f01e9a94b4e & 2015-03-01 & 0.123086 & 0.100505 & $\\dots$ \\\\\n",
       "\t28 & 36b6352b4656216bfdb96f01e9a94b4e & 2015-04-01 & 0.123086 & 0.100505 & $\\dots$ \\\\\n",
       "\t29 & 36b6352b4656216bfdb96f01e9a94b4e & 2015-05-01 & 0.123086 & 0.100505 & $\\dots$ \\\\\n",
       "\t30 & 36b6352b4656216bfdb96f01e9a94b4e & 2015-06-01 & 0.123086 & 0.100505 & $\\dots$ \\\\\n",
       "\t$\\dots$ & $\\dots$ & $\\dots$ & $\\dots$ & $\\dots$ &  \\\\\n",
       "\\end{tabular}\n"
      ],
      "text/plain": [
       "\u001b[1m193002×8 DataFrame\u001b[0m\n",
       "\u001b[1m    Row \u001b[0m│\u001b[1m id                               \u001b[0m\u001b[1m price_date \u001b[0m\u001b[1m price_off_peak_var \u001b[0m\u001b[1m pr\u001b[0m ⋯\n",
       "\u001b[1m        \u001b[0m│\u001b[90m String                           \u001b[0m\u001b[90m Dates.Date \u001b[0m\u001b[90m Float64            \u001b[0m\u001b[90m Fl\u001b[0m ⋯\n",
       "────────┼───────────────────────────────────────────────────────────────────────\n",
       "      1 │ 038af19179925da21a25619c5a24b745  2015-01-01            0.151367     ⋯\n",
       "      2 │ 038af19179925da21a25619c5a24b745  2015-02-01            0.151367\n",
       "      3 │ 038af19179925da21a25619c5a24b745  2015-03-01            0.151367\n",
       "      4 │ 038af19179925da21a25619c5a24b745  2015-04-01            0.149626\n",
       "      5 │ 038af19179925da21a25619c5a24b745  2015-05-01            0.149626     ⋯\n",
       "      6 │ 038af19179925da21a25619c5a24b745  2015-06-01            0.149626\n",
       "      7 │ 038af19179925da21a25619c5a24b745  2015-07-01            0.150321\n",
       "      8 │ 038af19179925da21a25619c5a24b745  2015-08-01            0.145859\n",
       "      9 │ 038af19179925da21a25619c5a24b745  2015-09-01            0.145859     ⋯\n",
       "     10 │ 038af19179925da21a25619c5a24b745  2015-10-01            0.145859\n",
       "     11 │ 038af19179925da21a25619c5a24b745  2015-11-01            0.145859\n",
       "   ⋮    │                ⋮                      ⋮               ⋮              ⋱\n",
       " 192993 │ 16f51cdc2baa19af0b940ee1b3dd17d5  2015-03-01            0.129444\n",
       " 192994 │ 16f51cdc2baa19af0b940ee1b3dd17d5  2015-04-01            0.129444     ⋯\n",
       " 192995 │ 16f51cdc2baa19af0b940ee1b3dd17d5  2015-05-01            0.129444\n",
       " 192996 │ 16f51cdc2baa19af0b940ee1b3dd17d5  2015-06-01            0.129444\n",
       " 192997 │ 16f51cdc2baa19af0b940ee1b3dd17d5  2015-07-01            0.128077\n",
       " 192998 │ 16f51cdc2baa19af0b940ee1b3dd17d5  2015-08-01            0.119916     ⋯\n",
       " 192999 │ 16f51cdc2baa19af0b940ee1b3dd17d5  2015-09-01            0.119916\n",
       " 193000 │ 16f51cdc2baa19af0b940ee1b3dd17d5  2015-10-01            0.119916\n",
       " 193001 │ 16f51cdc2baa19af0b940ee1b3dd17d5  2015-11-01            0.119916\n",
       " 193002 │ 16f51cdc2baa19af0b940ee1b3dd17d5  2015-12-01            0.119916     ⋯\n",
       "\u001b[36m                                               5 columns and 192981 rows omitted\u001b[0m"
      ]
     },
     "execution_count": 15,
     "metadata": {},
     "output_type": "execute_result"
    }
   ],
   "source": [
    "trainingData = DataFrame(urldownload(\"https://cdn.theforage.com/vinternships/companyassets/SKZxezskWgmFjRvj9/BqF6gmrmLunCkdqKM/1639044685365/client_data.csv\"))\n",
    "\n",
    "pricingData = DataFrame(urldownload(\"https://cdn.theforage.com/vinternships/companyassets/SKZxezskWgmFjRvj9/BqF6gmrmLunCkdqKM/1639044717433/price_data.csv\"))"
   ]
  },
  {
   "cell_type": "code",
   "execution_count": 19,
   "id": "22890b4e",
   "metadata": {},
   "outputs": [
    {
     "data": {
      "text/html": [
       "<div class=\"data-frame\"><p>26 rows × 7 columns (omitted printing of 3 columns)</p><table class=\"data-frame\"><thead><tr><th></th><th>variable</th><th>mean</th><th>min</th><th>median</th></tr><tr><th></th><th title=\"Symbol\">Symbol</th><th title=\"Union{Nothing, Float64}\">Union…</th><th title=\"Any\">Any</th><th title=\"Any\">Any</th></tr></thead><tbody><tr><th>1</th><td>id</td><td></td><td>0002203ffbb812588b632b9e628cc38d</td><td></td></tr><tr><th>2</th><td>channel_sales</td><td></td><td>MISSING</td><td></td></tr><tr><th>3</th><td>cons_12m</td><td>1.5922e5</td><td>0</td><td>14115.5</td></tr><tr><th>4</th><td>cons_gas_12m</td><td>28092.4</td><td>0</td><td>0.0</td></tr><tr><th>5</th><td>cons_last_month</td><td>16090.3</td><td>0</td><td>792.5</td></tr><tr><th>6</th><td>date_activ</td><td></td><td>2003-05-09</td><td>2011-03-04</td></tr><tr><th>7</th><td>date_end</td><td></td><td>2016-01-28</td><td>2016-08-01</td></tr><tr><th>8</th><td>date_modif_prod</td><td></td><td>2003-05-09</td><td>2013-06-19</td></tr><tr><th>9</th><td>date_renewal</td><td></td><td>2013-06-26</td><td>2015-07-27</td></tr><tr><th>10</th><td>forecast_cons_12m</td><td>1868.61</td><td>0.0</td><td>1112.88</td></tr><tr><th>11</th><td>forecast_cons_year</td><td>1399.76</td><td>0</td><td>314.0</td></tr><tr><th>12</th><td>forecast_discount_energy</td><td>0.966726</td><td>0.0</td><td>0.0</td></tr><tr><th>13</th><td>forecast_meter_rent_12m</td><td>63.0869</td><td>0.0</td><td>18.795</td></tr><tr><th>14</th><td>forecast_price_energy_off_peak</td><td>0.137283</td><td>0.0</td><td>0.143166</td></tr><tr><th>15</th><td>forecast_price_energy_peak</td><td>0.0504908</td><td>0.0</td><td>0.084138</td></tr><tr><th>16</th><td>forecast_price_pow_off_peak</td><td>43.1301</td><td>0.0</td><td>44.3114</td></tr><tr><th>17</th><td>has_gas</td><td></td><td>f</td><td></td></tr><tr><th>18</th><td>imp_cons</td><td>152.787</td><td>0.0</td><td>37.395</td></tr><tr><th>19</th><td>margin_gross_pow_ele</td><td>24.5651</td><td>0.0</td><td>21.64</td></tr><tr><th>20</th><td>margin_net_pow_ele</td><td>24.5625</td><td>0.0</td><td>21.64</td></tr><tr><th>21</th><td>nb_prod_act</td><td>1.29235</td><td>1</td><td>1.0</td></tr><tr><th>22</th><td>net_margin</td><td>189.265</td><td>0.0</td><td>112.53</td></tr><tr><th>23</th><td>num_years_antig</td><td>4.99781</td><td>1</td><td>5.0</td></tr><tr><th>24</th><td>origin_up</td><td></td><td>MISSING</td><td></td></tr><tr><th>25</th><td>pow_max</td><td>18.1351</td><td>3.3</td><td>13.856</td></tr><tr><th>26</th><td>churn</td><td>0.0971519</td><td>0</td><td>0.0</td></tr></tbody></table></div>"
      ],
      "text/latex": [
       "\\begin{tabular}{r|ccccc}\n",
       "\t& variable & mean & min & median & \\\\\n",
       "\t\\hline\n",
       "\t& Symbol & Union… & Any & Any & \\\\\n",
       "\t\\hline\n",
       "\t1 & id &  & 0002203ffbb812588b632b9e628cc38d &  & $\\dots$ \\\\\n",
       "\t2 & channel\\_sales &  & MISSING &  & $\\dots$ \\\\\n",
       "\t3 & cons\\_12m & 1.5922e5 & 0 & 14115.5 & $\\dots$ \\\\\n",
       "\t4 & cons\\_gas\\_12m & 28092.4 & 0 & 0.0 & $\\dots$ \\\\\n",
       "\t5 & cons\\_last\\_month & 16090.3 & 0 & 792.5 & $\\dots$ \\\\\n",
       "\t6 & date\\_activ &  & 2003-05-09 & 2011-03-04 & $\\dots$ \\\\\n",
       "\t7 & date\\_end &  & 2016-01-28 & 2016-08-01 & $\\dots$ \\\\\n",
       "\t8 & date\\_modif\\_prod &  & 2003-05-09 & 2013-06-19 & $\\dots$ \\\\\n",
       "\t9 & date\\_renewal &  & 2013-06-26 & 2015-07-27 & $\\dots$ \\\\\n",
       "\t10 & forecast\\_cons\\_12m & 1868.61 & 0.0 & 1112.88 & $\\dots$ \\\\\n",
       "\t11 & forecast\\_cons\\_year & 1399.76 & 0 & 314.0 & $\\dots$ \\\\\n",
       "\t12 & forecast\\_discount\\_energy & 0.966726 & 0.0 & 0.0 & $\\dots$ \\\\\n",
       "\t13 & forecast\\_meter\\_rent\\_12m & 63.0869 & 0.0 & 18.795 & $\\dots$ \\\\\n",
       "\t14 & forecast\\_price\\_energy\\_off\\_peak & 0.137283 & 0.0 & 0.143166 & $\\dots$ \\\\\n",
       "\t15 & forecast\\_price\\_energy\\_peak & 0.0504908 & 0.0 & 0.084138 & $\\dots$ \\\\\n",
       "\t16 & forecast\\_price\\_pow\\_off\\_peak & 43.1301 & 0.0 & 44.3114 & $\\dots$ \\\\\n",
       "\t17 & has\\_gas &  & f &  & $\\dots$ \\\\\n",
       "\t18 & imp\\_cons & 152.787 & 0.0 & 37.395 & $\\dots$ \\\\\n",
       "\t19 & margin\\_gross\\_pow\\_ele & 24.5651 & 0.0 & 21.64 & $\\dots$ \\\\\n",
       "\t20 & margin\\_net\\_pow\\_ele & 24.5625 & 0.0 & 21.64 & $\\dots$ \\\\\n",
       "\t21 & nb\\_prod\\_act & 1.29235 & 1 & 1.0 & $\\dots$ \\\\\n",
       "\t22 & net\\_margin & 189.265 & 0.0 & 112.53 & $\\dots$ \\\\\n",
       "\t23 & num\\_years\\_antig & 4.99781 & 1 & 5.0 & $\\dots$ \\\\\n",
       "\t24 & origin\\_up &  & MISSING &  & $\\dots$ \\\\\n",
       "\t25 & pow\\_max & 18.1351 & 3.3 & 13.856 & $\\dots$ \\\\\n",
       "\t26 & churn & 0.0971519 & 0 & 0.0 & $\\dots$ \\\\\n",
       "\\end{tabular}\n"
      ],
      "text/plain": [
       "\u001b[1m26×7 DataFrame\u001b[0m\n",
       "\u001b[1m Row \u001b[0m│\u001b[1m variable                       \u001b[0m\u001b[1m mean      \u001b[0m\u001b[1m min                         \u001b[0m ⋯\n",
       "\u001b[1m     \u001b[0m│\u001b[90m Symbol                         \u001b[0m\u001b[90m Union…    \u001b[0m\u001b[90m Any                         \u001b[0m ⋯\n",
       "─────┼──────────────────────────────────────────────────────────────────────────\n",
       "   1 │ id                             \u001b[90m           \u001b[0m 0002203ffbb812588b632b9e628c ⋯\n",
       "   2 │ channel_sales                  \u001b[90m           \u001b[0m MISSING\n",
       "   3 │ cons_12m                        1.5922e5   0\n",
       "   4 │ cons_gas_12m                    28092.4    0\n",
       "   5 │ cons_last_month                 16090.3    0                            ⋯\n",
       "   6 │ date_activ                     \u001b[90m           \u001b[0m 2003-05-09\n",
       "   7 │ date_end                       \u001b[90m           \u001b[0m 2016-01-28\n",
       "   8 │ date_modif_prod                \u001b[90m           \u001b[0m 2003-05-09\n",
       "   9 │ date_renewal                   \u001b[90m           \u001b[0m 2013-06-26                   ⋯\n",
       "  10 │ forecast_cons_12m               1868.61    0.0\n",
       "  11 │ forecast_cons_year              1399.76    0\n",
       "  ⋮  │               ⋮                     ⋮                     ⋮             ⋱\n",
       "  17 │ has_gas                        \u001b[90m           \u001b[0m f\n",
       "  18 │ imp_cons                        152.787    0.0                          ⋯\n",
       "  19 │ margin_gross_pow_ele            24.5651    0.0\n",
       "  20 │ margin_net_pow_ele              24.5625    0.0\n",
       "  21 │ nb_prod_act                     1.29235    1\n",
       "  22 │ net_margin                      189.265    0.0                          ⋯\n",
       "  23 │ num_years_antig                 4.99781    1\n",
       "  24 │ origin_up                      \u001b[90m           \u001b[0m MISSING\n",
       "  25 │ pow_max                         18.1351    3.3\n",
       "  26 │ churn                           0.0971519  0                            ⋯\n",
       "\u001b[36m                                                    5 columns and 5 rows omitted\u001b[0m"
      ]
     },
     "execution_count": 19,
     "metadata": {},
     "output_type": "execute_result"
    }
   ],
   "source": [
    "describe(trainingData)"
   ]
  },
  {
   "cell_type": "code",
   "execution_count": 22,
   "id": "8f5322d0",
   "metadata": {
    "scrolled": false
   },
   "outputs": [
    {
     "data": {
      "text/plain": [
       "┌─────────────────────┬─────────────────────────────┐\n",
       "│\u001b[1m                Type \u001b[0m│ DataFrameColumns{DataFrame} │\n",
       "│\u001b[1m             N. rows \u001b[0m│                       14606 │\n",
       "│\u001b[1m             N. cols \u001b[0m│                          26 │\n",
       "│\u001b[1m     N. numeric cols \u001b[0m│                          18 │\n",
       "│\u001b[1m N. categorical cols \u001b[0m│                           4 │\n",
       "│\u001b[1m    N. datetime cols \u001b[0m│                           4 │\n",
       "│\u001b[1m  N. allmissing cols \u001b[0m│                           0 │\n",
       "└─────────────────────┴─────────────────────────────┘\n",
       "\n",
       "18 numeric columns\n",
       "┌────────────────────────────────┬─────────┬──────────┬──────────┬───────────┬──\n",
       "│\u001b[1m                           Name \u001b[0m│\u001b[1m    Type \u001b[0m│\u001b[1m Missings \u001b[0m│\u001b[1m Complete \u001b[0m│\u001b[1m      Mean \u001b[0m│\u001b[1m\u001b[0m ⋯\n",
       "├────────────────────────────────┼─────────┼──────────┼──────────┼───────────┼──\n",
       "│                       cons_12m │   Int64 │        0 │   100.0% │ 159220.29 │ ⋯\n",
       "│                   cons_gas_12m │   Int64 │        0 │   100.0% │  28092.38 │ ⋯\n",
       "│                cons_last_month │   Int64 │        0 │   100.0% │  16090.27 │ ⋯\n",
       "│              forecast_cons_12m │ Float64 │        0 │   100.0% │   1868.61 │ ⋯\n",
       "│             forecast_cons_year │   Int64 │        0 │   100.0% │   1399.76 │ ⋯\n",
       "│       forecast_discount_energy │ Float64 │        0 │   100.0% │      0.97 │ ⋯\n",
       "│        forecast_meter_rent_12m │ Float64 │        0 │   100.0% │     63.09 │ ⋯\n",
       "│ forecast_price_energy_off_peak │ Float64 │        0 │   100.0% │      0.14 │ ⋯\n",
       "│     forecast_price_energy_peak │ Float64 │        0 │   100.0% │      0.05 │ ⋯\n",
       "│    forecast_price_pow_off_peak │ Float64 │        0 │   100.0% │     43.13 │ ⋯\n",
       "│                       imp_cons │ Float64 │        0 │   100.0% │    152.79 │ ⋯\n",
       "│           margin_gross_pow_ele │ Float64 │        0 │   100.0% │     24.57 │ ⋯\n",
       "│             margin_net_pow_ele │ Float64 │        0 │   100.0% │     24.56 │ ⋯\n",
       "│                    nb_prod_act │   Int64 │        0 │   100.0% │      1.29 │ ⋯\n",
       "│                     net_margin │ Float64 │        0 │   100.0% │    189.26 │ ⋯\n",
       "│                num_years_antig │   Int64 │        0 │   100.0% │      5.00 │ ⋯\n",
       "│                        pow_max │ Float64 │        0 │   100.0% │     18.14 │ ⋯\n",
       "│                          churn │   Int64 │        0 │   100.0% │      0.10 │ ⋯\n",
       "└────────────────────────────────┴─────────┴──────────┴──────────┴───────────┴──\n",
       "\u001b[36m                                                               5 columns omitted\u001b[0m\n",
       "4 categorical columns\n",
       "┌───────────────┬─────────┬──────────┬──────────┬────────┐\n",
       "│\u001b[1m          Name \u001b[0m│\u001b[1m    Type \u001b[0m│\u001b[1m Missings \u001b[0m│\u001b[1m Complete \u001b[0m│\u001b[1m Unique \u001b[0m│\n",
       "├───────────────┼─────────┼──────────┼──────────┼────────┤\n",
       "│            id │  String │        0 │   100.0% │  14606 │\n",
       "│ channel_sales │  String │        0 │   100.0% │      8 │\n",
       "│       has_gas │ String1 │        0 │   100.0% │      2 │\n",
       "│     origin_up │  String │        0 │   100.0% │      6 │\n",
       "└───────────────┴─────────┴──────────┴──────────┴────────┘\n",
       "4 datetime columns\n",
       "┌─────────────────┬──────┬──────────┬──────────┬────────────┬────────────┬──────\n",
       "│\u001b[1m            Name \u001b[0m│\u001b[1m Type \u001b[0m│\u001b[1m Missings \u001b[0m│\u001b[1m Complete \u001b[0m│\u001b[1m       Min. \u001b[0m│\u001b[1m       Max. \u001b[0m│\u001b[1m His\u001b[0m ⋯\n",
       "├─────────────────┼──────┼──────────┼──────────┼────────────┼────────────┼──────\n",
       "│      date_activ │ Date │        0 │   100.0% │ 2003-05-09 │ 2014-09-01 │ ▁▁▃ ⋯\n",
       "│        date_end │ Date │        0 │   100.0% │ 2016-01-28 │ 2017-06-13 │ ▃▃▃ ⋯\n",
       "│ date_modif_prod │ Date │        0 │   100.0% │ 2003-05-09 │ 2016-01-29 │ ▁▁▃ ⋯\n",
       "│    date_renewal │ Date │        0 │   100.0% │ 2013-06-26 │ 2016-01-28 │ ▁▁▁ ⋯\n",
       "└─────────────────┴──────┴──────────┴──────────┴────────────┴────────────┴──────\n",
       "\u001b[36m                                                                1 column omitted\u001b[0m\n"
      ]
     },
     "execution_count": 22,
     "metadata": {},
     "output_type": "execute_result"
    }
   ],
   "source": [
    "skim(trainingData)"
   ]
  },
  {
   "cell_type": "code",
   "execution_count": 23,
   "id": "99e704bc",
   "metadata": {
    "scrolled": false
   },
   "outputs": [
    {
     "data": {
      "text/plain": [
       "┌─────────────────────┬─────────────────────────────┐\n",
       "│\u001b[1m                Type \u001b[0m│ DataFrameColumns{DataFrame} │\n",
       "│\u001b[1m             N. rows \u001b[0m│                      193002 │\n",
       "│\u001b[1m             N. cols \u001b[0m│                           8 │\n",
       "│\u001b[1m     N. numeric cols \u001b[0m│                           6 │\n",
       "│\u001b[1m N. categorical cols \u001b[0m│                           1 │\n",
       "│\u001b[1m    N. datetime cols \u001b[0m│                           1 │\n",
       "│\u001b[1m  N. allmissing cols \u001b[0m│                           0 │\n",
       "└─────────────────────┴─────────────────────────────┘\n",
       "\n",
       "6 numeric columns\n",
       "┌────────────────────┬─────────┬──────────┬──────────┬───────┬───────┬──────┬───\n",
       "│\u001b[1m               Name \u001b[0m│\u001b[1m    Type \u001b[0m│\u001b[1m Missings \u001b[0m│\u001b[1m Complete \u001b[0m│\u001b[1m  Mean \u001b[0m│\u001b[1m  Std. \u001b[0m│\u001b[1m Min. \u001b[0m│\u001b[1m \u001b[0m ⋯\n",
       "├────────────────────┼─────────┼──────────┼──────────┼───────┼───────┼──────┼───\n",
       "│ price_off_peak_var │ Float64 │        0 │   100.0% │  0.14 │  0.03 │ 0.00 │  ⋯\n",
       "│     price_peak_var │ Float64 │        0 │   100.0% │  0.05 │  0.05 │ 0.00 │  ⋯\n",
       "│ price_mid_peak_var │ Float64 │        0 │   100.0% │  0.03 │  0.04 │ 0.00 │  ⋯\n",
       "│ price_off_peak_fix │ Float64 │        0 │   100.0% │ 43.33 │  5.41 │ 0.00 │  ⋯\n",
       "│     price_peak_fix │ Float64 │        0 │   100.0% │ 10.62 │ 12.84 │ 0.00 │  ⋯\n",
       "│ price_mid_peak_fix │ Float64 │        0 │   100.0% │  6.41 │  7.77 │ 0.00 │  ⋯\n",
       "└────────────────────┴─────────┴──────────┴──────────┴───────┴───────┴──────┴───\n",
       "\u001b[36m                                                               3 columns omitted\u001b[0m\n",
       "1 categorical column\n",
       "┌──────┬────────┬──────────┬──────────┬────────┐\n",
       "│\u001b[1m Name \u001b[0m│\u001b[1m   Type \u001b[0m│\u001b[1m Missings \u001b[0m│\u001b[1m Complete \u001b[0m│\u001b[1m Unique \u001b[0m│\n",
       "├──────┼────────┼──────────┼──────────┼────────┤\n",
       "│   id │ String │        0 │   100.0% │  16096 │\n",
       "└──────┴────────┴──────────┴──────────┴────────┘\n",
       "1 datetime column\n",
       "┌────────────┬──────┬──────────┬──────────┬────────────┬────────────┬───────┐\n",
       "│\u001b[1m       Name \u001b[0m│\u001b[1m Type \u001b[0m│\u001b[1m Missings \u001b[0m│\u001b[1m Complete \u001b[0m│\u001b[1m       Min. \u001b[0m│\u001b[1m       Max. \u001b[0m│\u001b[1m Hist. \u001b[0m│\n",
       "├────────────┼──────┼──────────┼──────────┼────────────┼────────────┼───────┤\n",
       "│ price_date │ Date │        0 │   100.0% │ 2015-01-01 │ 2015-12-01 │ ▂▂▂▂▃ │\n",
       "└────────────┴──────┴──────────┴──────────┴────────────┴────────────┴───────┘\n"
      ]
     },
     "execution_count": 23,
     "metadata": {},
     "output_type": "execute_result"
    }
   ],
   "source": [
    "skim(pricingData)"
   ]
  },
  {
   "cell_type": "markdown",
   "id": "9d576838",
   "metadata": {},
   "source": [
    "The columns in both the datasets seems to have no missing values. "
   ]
  },
  {
   "cell_type": "code",
   "execution_count": null,
   "id": "9ad5a230",
   "metadata": {},
   "outputs": [],
   "source": []
  }
 ],
 "metadata": {
  "kernelspec": {
   "display_name": "Julia 1.7.3",
   "language": "julia",
   "name": "julia-1.7"
  },
  "language_info": {
   "file_extension": ".jl",
   "mimetype": "application/julia",
   "name": "julia",
   "version": "1.7.3"
  }
 },
 "nbformat": 4,
 "nbformat_minor": 5
}
